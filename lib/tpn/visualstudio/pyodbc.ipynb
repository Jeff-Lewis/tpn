{
 "cells": [
  {
   "cell_type": "code",
   "execution_count": 1,
   "metadata": {
    "collapsed": false
   },
   "outputs": [],
   "source": [
    "import tpn.util as tu\n",
    "import tpn.visualstudio as vs\n",
    "import tpn.visualstudio.pyodbc as pyodbc"
   ]
  },
  {
   "cell_type": "code",
   "execution_count": 2,
   "metadata": {
    "collapsed": false
   },
   "outputs": [
    {
     "name": "stdout",
     "output_type": "stream",
     "text": [
      "class PyOdbcProject(Project):\n",
      "    name = 'pyodbc'\n",
      "    version = '3.0.8'\n",
      "    major = '3'\n",
      "    minor = '0'\n",
      "    micro = '8'\n",
      "    build = '0'\n",
      "    guid = '{D6C8B019-117C-455C-8EBC-1C9B6D9EC325}'\n",
      "    source_filterdef_guid = '{A503B47E-D455-4806-947F-BFCA56EF0F9E}'\n",
      "    include_filterdef_guid = '{28358B4E-0F4B-4728-8C08-1BAFB8C8566C}'\n",
      "    other_filterdef_guid = '{37A2F692-0C97-11E5-9F3F-8863DFCA3C40}'\n",
      "    python_filterdef_guid = '{37A2F692-0C97-11E5-9F3F-8863DFCA3C41}'\n",
      "    cython_filterdef_guid = '{37A2F692-0C97-11E5-9F3F-8863DFCA3C42}'\n",
      "    resource_filterdef_guid = '{37A2F692-0C97-11E5-9F3F-8863DFCA3C43}'\n",
      "\n",
      "    compile_defines = {\n",
      "        'PYODBC_UNICODE_WIDTH': '2',\n",
      "    }\n",
      "\n",
      "    resource_defines = {\n",
      "        'PYODBC_VERSION': version,\n",
      "        'PYODBC_MAJOR': major,\n",
      "        'PYODBC_MINOR': minor,\n",
      "        'PYODBC_MICRO': micro,\n",
      "        'PYODBC_BUILD': build,\n",
      "    }\n",
      "\n"
     ]
    }
   ],
   "source": [
    "print(tu.get_source(pyodbc.PyOdbcProject))"
   ]
  },
  {
   "cell_type": "code",
   "execution_count": 3,
   "metadata": {
    "collapsed": false
   },
   "outputs": [
    {
     "ename": "NoOptionError",
     "evalue": "No option 'src_dir' in section: 'main'",
     "output_type": "error",
     "traceback": [
      "\u001b[1;31m---------------------------------------------------------------------------\u001b[0m",
      "\u001b[1;31mKeyError\u001b[0m                                  Traceback (most recent call last)",
      "\u001b[1;32mC:\\Users\\Trent\\Home\\src\\tpn\\lib\\tpn\\util.py\u001b[0m in \u001b[0;36m__call__\u001b[1;34m(self, *args, **kw)\u001b[0m\n\u001b[0;32m    951\u001b[0m         \u001b[1;32mtry\u001b[0m\u001b[1;33m:\u001b[0m\u001b[1;33m\u001b[0m\u001b[0m\n\u001b[1;32m--> 952\u001b[1;33m             \u001b[0mres\u001b[0m \u001b[1;33m=\u001b[0m \u001b[0mcache\u001b[0m\u001b[1;33m[\u001b[0m\u001b[0mkey\u001b[0m\u001b[1;33m]\u001b[0m\u001b[1;33m\u001b[0m\u001b[0m\n\u001b[0m\u001b[0;32m    953\u001b[0m         \u001b[1;32mexcept\u001b[0m \u001b[0mKeyError\u001b[0m\u001b[1;33m:\u001b[0m\u001b[1;33m\u001b[0m\u001b[0m\n",
      "\u001b[1;31mKeyError\u001b[0m: (<function Config.src_dir at 0x00000000052FFD90>, (), frozenset())",
      "\nDuring handling of the above exception, another exception occurred:\n",
      "\u001b[1;31mKeyError\u001b[0m                                  Traceback (most recent call last)",
      "\u001b[1;32mC:\\Users\\Trent\\Anaconda\\envs\\py34\\lib\\configparser.py\u001b[0m in \u001b[0;36mget\u001b[1;34m(self, section, option, raw, vars, fallback)\u001b[0m\n\u001b[0;32m    761\u001b[0m         \u001b[1;32mtry\u001b[0m\u001b[1;33m:\u001b[0m\u001b[1;33m\u001b[0m\u001b[0m\n\u001b[1;32m--> 762\u001b[1;33m             \u001b[0mvalue\u001b[0m \u001b[1;33m=\u001b[0m \u001b[0md\u001b[0m\u001b[1;33m[\u001b[0m\u001b[0moption\u001b[0m\u001b[1;33m]\u001b[0m\u001b[1;33m\u001b[0m\u001b[0m\n\u001b[0m\u001b[0;32m    763\u001b[0m         \u001b[1;32mexcept\u001b[0m \u001b[0mKeyError\u001b[0m\u001b[1;33m:\u001b[0m\u001b[1;33m\u001b[0m\u001b[0m\n",
      "\u001b[1;32mC:\\Users\\Trent\\Anaconda\\envs\\py34\\lib\\collections\\__init__.py\u001b[0m in \u001b[0;36m__getitem__\u001b[1;34m(self, key)\u001b[0m\n\u001b[0;32m    813\u001b[0m                 \u001b[1;32mpass\u001b[0m\u001b[1;33m\u001b[0m\u001b[0m\n\u001b[1;32m--> 814\u001b[1;33m         \u001b[1;32mreturn\u001b[0m \u001b[0mself\u001b[0m\u001b[1;33m.\u001b[0m\u001b[0m__missing__\u001b[0m\u001b[1;33m(\u001b[0m\u001b[0mkey\u001b[0m\u001b[1;33m)\u001b[0m            \u001b[1;31m# support subclasses that define __missing__\u001b[0m\u001b[1;33m\u001b[0m\u001b[0m\n\u001b[0m\u001b[0;32m    815\u001b[0m \u001b[1;33m\u001b[0m\u001b[0m\n",
      "\u001b[1;32mC:\\Users\\Trent\\Anaconda\\envs\\py34\\lib\\collections\\__init__.py\u001b[0m in \u001b[0;36m__missing__\u001b[1;34m(self, key)\u001b[0m\n\u001b[0;32m    805\u001b[0m     \u001b[1;32mdef\u001b[0m \u001b[0m__missing__\u001b[0m\u001b[1;33m(\u001b[0m\u001b[0mself\u001b[0m\u001b[1;33m,\u001b[0m \u001b[0mkey\u001b[0m\u001b[1;33m)\u001b[0m\u001b[1;33m:\u001b[0m\u001b[1;33m\u001b[0m\u001b[0m\n\u001b[1;32m--> 806\u001b[1;33m         \u001b[1;32mraise\u001b[0m \u001b[0mKeyError\u001b[0m\u001b[1;33m(\u001b[0m\u001b[0mkey\u001b[0m\u001b[1;33m)\u001b[0m\u001b[1;33m\u001b[0m\u001b[0m\n\u001b[0m\u001b[0;32m    807\u001b[0m \u001b[1;33m\u001b[0m\u001b[0m\n",
      "\u001b[1;31mKeyError\u001b[0m: 'src_dir'",
      "\nDuring handling of the above exception, another exception occurred:\n",
      "\u001b[1;31mNoOptionError\u001b[0m                             Traceback (most recent call last)",
      "\u001b[1;32m<ipython-input-3-ba37b751b801>\u001b[0m in \u001b[0;36m<module>\u001b[1;34m()\u001b[0m\n\u001b[0;32m      1\u001b[0m \u001b[0mp\u001b[0m \u001b[1;33m=\u001b[0m \u001b[0mpyodbc\u001b[0m\u001b[1;33m.\u001b[0m\u001b[0mPyOdbcProject\u001b[0m\u001b[1;33m(\u001b[0m\u001b[1;33m)\u001b[0m\u001b[1;33m\u001b[0m\u001b[0m\n\u001b[1;32m----> 2\u001b[1;33m \u001b[0mp\u001b[0m\u001b[1;33m.\u001b[0m\u001b[0mload\u001b[0m\u001b[1;33m(\u001b[0m\u001b[1;33m)\u001b[0m\u001b[1;33m\u001b[0m\u001b[0m\n\u001b[0m",
      "\u001b[1;32mC:\\Users\\Trent\\Home\\src\\tpn\\lib\\tpn\\visualstudio\\project.py\u001b[0m in \u001b[0;36mload\u001b[1;34m(self)\u001b[0m\n\u001b[0;32m    202\u001b[0m         \u001b[0mexts\u001b[0m \u001b[1;33m=\u001b[0m \u001b[0mextensions\u001b[0m\u001b[1;33m.\u001b[0m\u001b[0mkeys\u001b[0m\u001b[1;33m(\u001b[0m\u001b[1;33m)\u001b[0m\u001b[1;33m\u001b[0m\u001b[0m\n\u001b[0;32m    203\u001b[0m \u001b[1;33m\u001b[0m\u001b[0m\n\u001b[1;32m--> 204\u001b[1;33m         \u001b[1;32mwith\u001b[0m \u001b[0mchdir\u001b[0m\u001b[1;33m(\u001b[0m\u001b[0mself\u001b[0m\u001b[1;33m.\u001b[0m\u001b[0mpath\u001b[0m\u001b[1;33m)\u001b[0m\u001b[1;33m:\u001b[0m\u001b[1;33m\u001b[0m\u001b[0m\n\u001b[0m\u001b[0;32m    205\u001b[0m             \u001b[1;32mfor\u001b[0m \u001b[1;33m(\u001b[0m\u001b[0mroot\u001b[0m\u001b[1;33m,\u001b[0m \u001b[0mdirs\u001b[0m\u001b[1;33m,\u001b[0m \u001b[0mfiles\u001b[0m\u001b[1;33m)\u001b[0m \u001b[1;32min\u001b[0m \u001b[0mos\u001b[0m\u001b[1;33m.\u001b[0m\u001b[0mwalk\u001b[0m\u001b[1;33m(\u001b[0m\u001b[0mself\u001b[0m\u001b[1;33m.\u001b[0m\u001b[0mrelative_src_dir\u001b[0m\u001b[1;33m)\u001b[0m\u001b[1;33m:\u001b[0m\u001b[1;33m\u001b[0m\u001b[0m\n\u001b[0;32m    206\u001b[0m                 \u001b[1;32mfor\u001b[0m \u001b[0mf\u001b[0m \u001b[1;32min\u001b[0m \u001b[0mfiles\u001b[0m\u001b[1;33m:\u001b[0m\u001b[1;33m\u001b[0m\u001b[0m\n",
      "\u001b[1;32mC:\\Users\\Trent\\Home\\src\\tpn\\lib\\tpn\\visualstudio\\project.py\u001b[0m in \u001b[0;36mpath\u001b[1;34m(self)\u001b[0m\n\u001b[0;32m    168\u001b[0m     \u001b[1;33m@\u001b[0m\u001b[0mproperty\u001b[0m\u001b[1;33m\u001b[0m\u001b[0m\n\u001b[0;32m    169\u001b[0m     \u001b[1;32mdef\u001b[0m \u001b[0mpath\u001b[0m\u001b[1;33m(\u001b[0m\u001b[0mself\u001b[0m\u001b[1;33m)\u001b[0m\u001b[1;33m:\u001b[0m\u001b[1;33m\u001b[0m\u001b[0m\n\u001b[1;32m--> 170\u001b[1;33m         \u001b[1;32mreturn\u001b[0m \u001b[0mjoin_path\u001b[0m\u001b[1;33m(\u001b[0m\u001b[0mself\u001b[0m\u001b[1;33m.\u001b[0m\u001b[0mbase\u001b[0m\u001b[1;33m,\u001b[0m \u001b[0mself\u001b[0m\u001b[1;33m.\u001b[0m\u001b[0mname\u001b[0m\u001b[1;33m)\u001b[0m\u001b[1;33m\u001b[0m\u001b[0m\n\u001b[0m\u001b[0;32m    171\u001b[0m \u001b[1;33m\u001b[0m\u001b[0m\n\u001b[0;32m    172\u001b[0m     \u001b[1;33m@\u001b[0m\u001b[0mproperty\u001b[0m\u001b[1;33m\u001b[0m\u001b[0m\n",
      "\u001b[1;32mC:\\Users\\Trent\\Home\\src\\tpn\\lib\\tpn\\visualstudio\\project.py\u001b[0m in \u001b[0;36mbase\u001b[1;34m(self)\u001b[0m\n\u001b[0;32m    164\u001b[0m     \u001b[1;33m@\u001b[0m\u001b[0mproperty\u001b[0m\u001b[1;33m\u001b[0m\u001b[0m\n\u001b[0;32m    165\u001b[0m     \u001b[1;32mdef\u001b[0m \u001b[0mbase\u001b[0m\u001b[1;33m(\u001b[0m\u001b[0mself\u001b[0m\u001b[1;33m)\u001b[0m\u001b[1;33m:\u001b[0m\u001b[1;33m\u001b[0m\u001b[0m\n\u001b[1;32m--> 166\u001b[1;33m         \u001b[1;32mreturn\u001b[0m \u001b[0mconf\u001b[0m\u001b[1;33m.\u001b[0m\u001b[0msrc_dir\u001b[0m\u001b[1;33m\u001b[0m\u001b[0m\n\u001b[0m\u001b[0;32m    167\u001b[0m \u001b[1;33m\u001b[0m\u001b[0m\n\u001b[0;32m    168\u001b[0m     \u001b[1;33m@\u001b[0m\u001b[0mproperty\u001b[0m\u001b[1;33m\u001b[0m\u001b[0m\n",
      "\u001b[1;32mC:\\Users\\Trent\\Home\\src\\tpn\\lib\\tpn\\util.py\u001b[0m in \u001b[0;36m__call__\u001b[1;34m(self, *args, **kw)\u001b[0m\n\u001b[0;32m    952\u001b[0m             \u001b[0mres\u001b[0m \u001b[1;33m=\u001b[0m \u001b[0mcache\u001b[0m\u001b[1;33m[\u001b[0m\u001b[0mkey\u001b[0m\u001b[1;33m]\u001b[0m\u001b[1;33m\u001b[0m\u001b[0m\n\u001b[0;32m    953\u001b[0m         \u001b[1;32mexcept\u001b[0m \u001b[0mKeyError\u001b[0m\u001b[1;33m:\u001b[0m\u001b[1;33m\u001b[0m\u001b[0m\n\u001b[1;32m--> 954\u001b[1;33m             \u001b[0mres\u001b[0m \u001b[1;33m=\u001b[0m \u001b[0mcache\u001b[0m\u001b[1;33m[\u001b[0m\u001b[0mkey\u001b[0m\u001b[1;33m]\u001b[0m \u001b[1;33m=\u001b[0m \u001b[0mself\u001b[0m\u001b[1;33m.\u001b[0m\u001b[0mfunc\u001b[0m\u001b[1;33m(\u001b[0m\u001b[1;33m*\u001b[0m\u001b[0margs\u001b[0m\u001b[1;33m,\u001b[0m \u001b[1;33m**\u001b[0m\u001b[0mkw\u001b[0m\u001b[1;33m)\u001b[0m\u001b[1;33m\u001b[0m\u001b[0m\n\u001b[0m\u001b[0;32m    955\u001b[0m         \u001b[1;32mreturn\u001b[0m \u001b[0mres\u001b[0m\u001b[1;33m\u001b[0m\u001b[0m\n\u001b[0;32m    956\u001b[0m \u001b[1;33m\u001b[0m\u001b[0m\n",
      "\u001b[1;32mC:\\Users\\Trent\\Home\\src\\tpn\\lib\\tpn\\config.py\u001b[0m in \u001b[0;36msrc_dir\u001b[1;34m(self)\u001b[0m\n\u001b[0;32m    240\u001b[0m     \u001b[1;33m@\u001b[0m\u001b[0mmemoize\u001b[0m\u001b[1;33m\u001b[0m\u001b[0m\n\u001b[0;32m    241\u001b[0m     \u001b[1;32mdef\u001b[0m \u001b[0msrc_dir\u001b[0m\u001b[1;33m(\u001b[0m\u001b[0mself\u001b[0m\u001b[1;33m)\u001b[0m\u001b[1;33m:\u001b[0m\u001b[1;33m\u001b[0m\u001b[0m\n\u001b[1;32m--> 242\u001b[1;33m         \u001b[1;32mreturn\u001b[0m \u001b[0mself\u001b[0m\u001b[1;33m.\u001b[0m\u001b[0m_absdir\u001b[0m\u001b[1;33m(\u001b[0m\u001b[1;34m'src_dir'\u001b[0m\u001b[1;33m)\u001b[0m\u001b[1;33m\u001b[0m\u001b[0m\n\u001b[0m\u001b[0;32m    243\u001b[0m \u001b[1;33m\u001b[0m\u001b[0m\n\u001b[0;32m    244\u001b[0m     \u001b[1;33m@\u001b[0m\u001b[0mproperty\u001b[0m\u001b[1;33m\u001b[0m\u001b[0m\n",
      "\u001b[1;32mC:\\Users\\Trent\\Home\\src\\tpn\\lib\\tpn\\config.py\u001b[0m in \u001b[0;36m_absdir\u001b[1;34m(self, name, section)\u001b[0m\n\u001b[0;32m    214\u001b[0m         \u001b[0mtotal\u001b[0m \u001b[1;33m=\u001b[0m \u001b[1;36m0\u001b[0m\u001b[1;33m\u001b[0m\u001b[0m\n\u001b[0;32m    215\u001b[0m         \u001b[0mmax_total\u001b[0m \u001b[1;33m=\u001b[0m \u001b[1;36m10\u001b[0m\u001b[1;33m\u001b[0m\u001b[0m\n\u001b[1;32m--> 216\u001b[1;33m         \u001b[0mp\u001b[0m \u001b[1;33m=\u001b[0m \u001b[0mself\u001b[0m\u001b[1;33m.\u001b[0m\u001b[0mget\u001b[0m\u001b[1;33m(\u001b[0m\u001b[0msection\u001b[0m\u001b[1;33m,\u001b[0m \u001b[0mname\u001b[0m\u001b[1;33m)\u001b[0m\u001b[1;33m\u001b[0m\u001b[0m\n\u001b[0m\u001b[0;32m    217\u001b[0m         \u001b[1;32mwhile\u001b[0m \u001b[0mcount\u001b[0m \u001b[1;33m!=\u001b[0m \u001b[1;36m2\u001b[0m \u001b[1;32mand\u001b[0m \u001b[0mtotal\u001b[0m \u001b[1;33m<\u001b[0m \u001b[0mmax_total\u001b[0m\u001b[1;33m:\u001b[0m\u001b[1;33m\u001b[0m\u001b[0m\n\u001b[0;32m    218\u001b[0m             \u001b[0mcount\u001b[0m \u001b[1;33m=\u001b[0m \u001b[1;36m0\u001b[0m\u001b[1;33m\u001b[0m\u001b[0m\n",
      "\u001b[1;32mC:\\Users\\Trent\\Anaconda\\envs\\py34\\lib\\configparser.py\u001b[0m in \u001b[0;36mget\u001b[1;34m(self, section, option, raw, vars, fallback)\u001b[0m\n\u001b[0;32m    763\u001b[0m         \u001b[1;32mexcept\u001b[0m \u001b[0mKeyError\u001b[0m\u001b[1;33m:\u001b[0m\u001b[1;33m\u001b[0m\u001b[0m\n\u001b[0;32m    764\u001b[0m             \u001b[1;32mif\u001b[0m \u001b[0mfallback\u001b[0m \u001b[1;32mis\u001b[0m \u001b[0m_UNSET\u001b[0m\u001b[1;33m:\u001b[0m\u001b[1;33m\u001b[0m\u001b[0m\n\u001b[1;32m--> 765\u001b[1;33m                 \u001b[1;32mraise\u001b[0m \u001b[0mNoOptionError\u001b[0m\u001b[1;33m(\u001b[0m\u001b[0moption\u001b[0m\u001b[1;33m,\u001b[0m \u001b[0msection\u001b[0m\u001b[1;33m)\u001b[0m\u001b[1;33m\u001b[0m\u001b[0m\n\u001b[0m\u001b[0;32m    766\u001b[0m             \u001b[1;32melse\u001b[0m\u001b[1;33m:\u001b[0m\u001b[1;33m\u001b[0m\u001b[0m\n\u001b[0;32m    767\u001b[0m                 \u001b[1;32mreturn\u001b[0m \u001b[0mfallback\u001b[0m\u001b[1;33m\u001b[0m\u001b[0m\n",
      "\u001b[1;31mNoOptionError\u001b[0m: No option 'src_dir' in section: 'main'"
     ]
    }
   ],
   "source": [
    "p = pyodbc.PyOdbcProject()\n",
    "p.load()"
   ]
  },
  {
   "cell_type": "code",
   "execution_count": 4,
   "metadata": {
    "collapsed": false
   },
   "outputs": [
    {
     "name": "stdout",
     "output_type": "stream",
     "text": [
      "<?xml version=\"1.0\" encoding=\"utf-8\"?>\n",
      "<Project DefaultTargets=\"Build\" ToolsVersion=\"4.0\" xmlns=\"http://schemas.microsoft.com/developer/msbuild/2003\">\n",
      "  <ItemGroup Label=\"ProjectConfigurations\">\n",
      "    <ProjectConfiguration Include=\"Debug|Win32\">\n",
      "      <Configuration>Debug</Configuration>\n",
      "      <Platform>Win32</Platform>\n",
      "    </ProjectConfiguration>\n",
      "    <ProjectConfiguration Include=\"Debug|x64\">\n",
      "      <Configuration>Debug</Configuration>\n",
      "      <Platform>x64</Platform>\n",
      "    </ProjectConfiguration>\n",
      "    <ProjectConfiguration Include=\"PGInstrument|Win32\">\n",
      "      <Configuration>PGInstrument</Configuration>\n",
      "      <Platform>Win32</Platform>\n",
      "    </ProjectConfiguration>\n",
      "    <ProjectConfiguration Include=\"PGInstrument|x64\">\n",
      "      <Configuration>PGInstrument</Configuration>\n",
      "      <Platform>x64</Platform>\n",
      "    </ProjectConfiguration>\n",
      "    <ProjectConfiguration Include=\"PGUpdate|Win32\">\n",
      "      <Configuration>PGUpdate</Configuration>\n",
      "      <Platform>Win32</Platform>\n",
      "    </ProjectConfiguration>\n",
      "    <ProjectConfiguration Include=\"PGUpdate|x64\">\n",
      "      <Configuration>PGUpdate</Configuration>\n",
      "      <Platform>x64</Platform>\n",
      "    </ProjectConfiguration>\n",
      "    <ProjectConfiguration Include=\"Release|Win32\">\n",
      "      <Configuration>Release</Configuration>\n",
      "      <Platform>Win32</Platform>\n",
      "    </ProjectConfiguration>\n",
      "    <ProjectConfiguration Include=\"Release|x64\">\n",
      "      <Configuration>Release</Configuration>\n",
      "      <Platform>x64</Platform>\n",
      "    </ProjectConfiguration>\n",
      "  </ItemGroup>\n",
      "  <PropertyGroup Label=\"Globals\">\n",
      "    <ProjectGuid>{D6C8B019-117C-455C-8EBC-1C9B6D9EC325}</ProjectGuid>\n",
      "    <RootNamespace>pyodbc</RootNamespace>\n",
      "    <Keyword>Win32Proj</Keyword>\n",
      "  </PropertyGroup>\n",
      "  <Import Project=\"$(VCTargetsPath)\\Microsoft.Cpp.Default.props\" />\n",
      "  <PropertyGroup Condition=\"'$(Configuration)|$(Platform)'=='PGUpdate|Win32'\" Label=\"Configuration\">\n",
      "    <ConfigurationType>DynamicLibrary</ConfigurationType>\n",
      "    <CharacterSet>NotSet</CharacterSet>\n",
      "    <WholeProgramOptimization>true</WholeProgramOptimization>\n",
      "  </PropertyGroup>\n",
      "  <PropertyGroup Condition=\"'$(Configuration)|$(Platform)'=='PGInstrument|Win32'\" Label=\"Configuration\">\n",
      "    <ConfigurationType>DynamicLibrary</ConfigurationType>\n",
      "    <CharacterSet>NotSet</CharacterSet>\n",
      "    <WholeProgramOptimization>true</WholeProgramOptimization>\n",
      "  </PropertyGroup>\n",
      "  <PropertyGroup Condition=\"'$(Configuration)|$(Platform)'=='Release|Win32'\" Label=\"Configuration\">\n",
      "    <ConfigurationType>DynamicLibrary</ConfigurationType>\n",
      "    <CharacterSet>NotSet</CharacterSet>\n",
      "    <WholeProgramOptimization>true</WholeProgramOptimization>\n",
      "  </PropertyGroup>\n",
      "  <PropertyGroup Condition=\"'$(Configuration)|$(Platform)'=='Debug|Win32'\" Label=\"Configuration\">\n",
      "    <ConfigurationType>DynamicLibrary</ConfigurationType>\n",
      "    <CharacterSet>NotSet</CharacterSet>\n",
      "  </PropertyGroup>\n",
      "  <PropertyGroup Condition=\"'$(Configuration)|$(Platform)'=='PGUpdate|x64'\" Label=\"Configuration\">\n",
      "    <ConfigurationType>DynamicLibrary</ConfigurationType>\n",
      "    <CharacterSet>NotSet</CharacterSet>\n",
      "    <WholeProgramOptimization>true</WholeProgramOptimization>\n",
      "  </PropertyGroup>\n",
      "  <PropertyGroup Condition=\"'$(Configuration)|$(Platform)'=='PGInstrument|x64'\" Label=\"Configuration\">\n",
      "    <ConfigurationType>DynamicLibrary</ConfigurationType>\n",
      "    <CharacterSet>NotSet</CharacterSet>\n",
      "    <WholeProgramOptimization>true</WholeProgramOptimization>\n",
      "  </PropertyGroup>\n",
      "  <PropertyGroup Condition=\"'$(Configuration)|$(Platform)'=='Release|x64'\" Label=\"Configuration\">\n",
      "    <ConfigurationType>DynamicLibrary</ConfigurationType>\n",
      "    <CharacterSet>NotSet</CharacterSet>\n",
      "    <WholeProgramOptimization>true</WholeProgramOptimization>\n",
      "  </PropertyGroup>\n",
      "  <PropertyGroup Condition=\"'$(Configuration)|$(Platform)'=='Debug|x64'\" Label=\"Configuration\">\n",
      "    <ConfigurationType>DynamicLibrary</ConfigurationType>\n",
      "    <CharacterSet>NotSet</CharacterSet>\n",
      "  </PropertyGroup>\n",
      "  <Import Project=\"$(VCTargetsPath)\\Microsoft.Cpp.props\" />\n",
      "  <ImportGroup Label=\"ExtensionSettings\">\n",
      "  </ImportGroup>\n",
      "  <ImportGroup Condition=\"'$(Configuration)|$(Platform)'=='PGUpdate|Win32'\" Label=\"PropertySheets\">\n",
      "    <Import Project=\"$(UserRootDir)\\Microsoft.Cpp.$(Platform).user.props\" Condition=\"exists('$(UserRootDir)\\Microsoft.Cpp.$(Platform).user.props')\" Label=\"LocalAppDataPlatform\" />\n",
      "    <Import Project=\"pyodbc.props\" />\n",
      "    <Import Project=\"pyd.props\" />\n",
      "    <Import Project=\"pgupdate.props\" />\n",
      "  </ImportGroup>\n",
      "  <ImportGroup Condition=\"'$(Configuration)|$(Platform)'=='PGInstrument|Win32'\" Label=\"PropertySheets\">\n",
      "    <Import Project=\"$(UserRootDir)\\Microsoft.Cpp.$(Platform).user.props\" Condition=\"exists('$(UserRootDir)\\Microsoft.Cpp.$(Platform).user.props')\" Label=\"LocalAppDataPlatform\" />\n",
      "    <Import Project=\"pyodbc.props\" />\n",
      "    <Import Project=\"pyd.props\" />\n",
      "    <Import Project=\"pginstrument.props\" />\n",
      "  </ImportGroup>\n",
      "  <ImportGroup Condition=\"'$(Configuration)|$(Platform)'=='Release|Win32'\" Label=\"PropertySheets\">\n",
      "    <Import Project=\"$(UserRootDir)\\Microsoft.Cpp.$(Platform).user.props\" Condition=\"exists('$(UserRootDir)\\Microsoft.Cpp.$(Platform).user.props')\" Label=\"LocalAppDataPlatform\" />\n",
      "    <Import Project=\"pyodbc.props\" />\n",
      "    <Import Project=\"pyd.props\" />\n",
      "  </ImportGroup>\n",
      "  <ImportGroup Condition=\"'$(Configuration)|$(Platform)'=='Debug|Win32'\" Label=\"PropertySheets\">\n",
      "    <Import Project=\"$(UserRootDir)\\Microsoft.Cpp.$(Platform).user.props\" Condition=\"exists('$(UserRootDir)\\Microsoft.Cpp.$(Platform).user.props')\" Label=\"LocalAppDataPlatform\" />\n",
      "    <Import Project=\"pyodbc.props\" />\n",
      "    <Import Project=\"pyodbc_debug.props\" />\n",
      "    <Import Project=\"pyd_d.props\" />\n",
      "    <Import Project=\"debug.props\" />\n",
      "  </ImportGroup>\n",
      "  <ImportGroup Condition=\"'$(Configuration)|$(Platform)'=='PGUpdate|x64'\" Label=\"PropertySheets\">\n",
      "    <Import Project=\"$(UserRootDir)\\Microsoft.Cpp.$(Platform).user.props\" Condition=\"exists('$(UserRootDir)\\Microsoft.Cpp.$(Platform).user.props')\" Label=\"LocalAppDataPlatform\" />\n",
      "    <Import Project=\"pyodbc.props\" />\n",
      "    <Import Project=\"pyd.props\" />\n",
      "    <Import Project=\"x64.props\" />\n",
      "    <Import Project=\"pgupdate.props\" />\n",
      "  </ImportGroup>\n",
      "  <ImportGroup Condition=\"'$(Configuration)|$(Platform)'=='PGInstrument|x64'\" Label=\"PropertySheets\">\n",
      "    <Import Project=\"$(UserRootDir)\\Microsoft.Cpp.$(Platform).user.props\" Condition=\"exists('$(UserRootDir)\\Microsoft.Cpp.$(Platform).user.props')\" Label=\"LocalAppDataPlatform\" />\n",
      "    <Import Project=\"pyodbc.props\" />\n",
      "    <Import Project=\"pyd.props\" />\n",
      "    <Import Project=\"x64.props\" />\n",
      "    <Import Project=\"pginstrument.props\" />\n",
      "  </ImportGroup>\n",
      "  <ImportGroup Condition=\"'$(Configuration)|$(Platform)'=='Release|x64'\" Label=\"PropertySheets\">\n",
      "    <Import Project=\"$(UserRootDir)\\Microsoft.Cpp.$(Platform).user.props\" Condition=\"exists('$(UserRootDir)\\Microsoft.Cpp.$(Platform).user.props')\" Label=\"LocalAppDataPlatform\" />\n",
      "    <Import Project=\"pyodbc.props\" />\n",
      "    <Import Project=\"pyd.props\" />\n",
      "    <Import Project=\"x64.props\" />\n",
      "  </ImportGroup>\n",
      "  <ImportGroup Condition=\"'$(Configuration)|$(Platform)'=='Debug|x64'\" Label=\"PropertySheets\">\n",
      "    <Import Project=\"$(UserRootDir)\\Microsoft.Cpp.$(Platform).user.props\" Condition=\"exists('$(UserRootDir)\\Microsoft.Cpp.$(Platform).user.props')\" Label=\"LocalAppDataPlatform\" />\n",
      "    <Import Project=\"pyodbc.props\" />\n",
      "    <Import Project=\"pyodbc_debug.props\" />\n",
      "    <Import Project=\"pyd_d.props\" />\n",
      "    <Import Project=\"debug.props\" />\n",
      "    <Import Project=\"x64.props\" />\n",
      "  </ImportGroup>\n",
      "  <PropertyGroup Label=\"UserMacros\" />\n",
      "  <PropertyGroup>\n",
      "    <_ProjectFileVersion>10.0.30319.1</_ProjectFileVersion>\n",
      "    <CodeAnalysisRuleSet Condition=\"'$(Configuration)|$(Platform)'=='Debug|Win32'\">AllRules.ruleset</CodeAnalysisRuleSet>\n",
      "    <CodeAnalysisRules Condition=\"'$(Configuration)|$(Platform)'=='Debug|Win32'\" />\n",
      "    <CodeAnalysisRuleAssemblies Condition=\"'$(Configuration)|$(Platform)'=='Debug|Win32'\" />\n",
      "    <CodeAnalysisRuleSet Condition=\"'$(Configuration)|$(Platform)'=='Debug|x64'\">AllRules.ruleset</CodeAnalysisRuleSet>\n",
      "    <CodeAnalysisRules Condition=\"'$(Configuration)|$(Platform)'=='Debug|x64'\" />\n",
      "    <CodeAnalysisRuleAssemblies Condition=\"'$(Configuration)|$(Platform)'=='Debug|x64'\" />\n",
      "    <CodeAnalysisRuleSet Condition=\"'$(Configuration)|$(Platform)'=='PGInstrument|Win32'\">AllRules.ruleset</CodeAnalysisRuleSet>\n",
      "    <CodeAnalysisRules Condition=\"'$(Configuration)|$(Platform)'=='PGInstrument|Win32'\" />\n",
      "    <CodeAnalysisRuleAssemblies Condition=\"'$(Configuration)|$(Platform)'=='PGInstrument|Win32'\" />\n",
      "    <CodeAnalysisRuleSet Condition=\"'$(Configuration)|$(Platform)'=='PGInstrument|x64'\">AllRules.ruleset</CodeAnalysisRuleSet>\n",
      "    <CodeAnalysisRules Condition=\"'$(Configuration)|$(Platform)'=='PGInstrument|x64'\" />\n",
      "    <CodeAnalysisRuleAssemblies Condition=\"'$(Configuration)|$(Platform)'=='PGInstrument|x64'\" />\n",
      "    <CodeAnalysisRuleSet Condition=\"'$(Configuration)|$(Platform)'=='PGUpdate|Win32'\">AllRules.ruleset</CodeAnalysisRuleSet>\n",
      "    <CodeAnalysisRules Condition=\"'$(Configuration)|$(Platform)'=='PGUpdate|Win32'\" />\n",
      "    <CodeAnalysisRuleAssemblies Condition=\"'$(Configuration)|$(Platform)'=='PGUpdate|Win32'\" />\n",
      "    <CodeAnalysisRuleSet Condition=\"'$(Configuration)|$(Platform)'=='PGUpdate|x64'\">AllRules.ruleset</CodeAnalysisRuleSet>\n",
      "    <CodeAnalysisRules Condition=\"'$(Configuration)|$(Platform)'=='PGUpdate|x64'\" />\n",
      "    <CodeAnalysisRuleAssemblies Condition=\"'$(Configuration)|$(Platform)'=='PGUpdate|x64'\" />\n",
      "    <CodeAnalysisRuleSet Condition=\"'$(Configuration)|$(Platform)'=='Release|Win32'\">AllRules.ruleset</CodeAnalysisRuleSet>\n",
      "    <CodeAnalysisRules Condition=\"'$(Configuration)|$(Platform)'=='Release|Win32'\" />\n",
      "    <CodeAnalysisRuleAssemblies Condition=\"'$(Configuration)|$(Platform)'=='Release|Win32'\" />\n",
      "    <CodeAnalysisRuleSet Condition=\"'$(Configuration)|$(Platform)'=='Release|x64'\">AllRules.ruleset</CodeAnalysisRuleSet>\n",
      "    <CodeAnalysisRules Condition=\"'$(Configuration)|$(Platform)'=='Release|x64'\" />\n",
      "    <CodeAnalysisRuleAssemblies Condition=\"'$(Configuration)|$(Platform)'=='Release|x64'\" />\n",
      "  </PropertyGroup>\n",
      "  <ItemDefinitionGroup Condition=\"'$(Configuration)|$(Platform)'=='Debug|Win32'\">\n",
      "    <ClCompile>\n",
      "      <AdditionalIncludeDirectories>%(AdditionalIncludeDirectories)</AdditionalIncludeDirectories>\n",
      "    </ClCompile>\n",
      "  </ItemDefinitionGroup>\n",
      "  <ItemDefinitionGroup Condition=\"'$(Configuration)|$(Platform)'=='Debug|x64'\">\n",
      "    <Midl>\n",
      "      <TargetEnvironment>X64</TargetEnvironment>\n",
      "    </Midl>\n",
      "    <ClCompile>\n",
      "      <AdditionalIncludeDirectories>%(AdditionalIncludeDirectories)</AdditionalIncludeDirectories>\n",
      "    </ClCompile>\n",
      "  </ItemDefinitionGroup>\n",
      "  <ItemDefinitionGroup Condition=\"'$(Configuration)|$(Platform)'=='Release|Win32'\">\n",
      "    <ClCompile>\n",
      "      <AdditionalIncludeDirectories>%(AdditionalIncludeDirectories)</AdditionalIncludeDirectories>\n",
      "    </ClCompile>\n",
      "  </ItemDefinitionGroup>\n",
      "  <ItemDefinitionGroup Condition=\"'$(Configuration)|$(Platform)'=='Release|x64'\">\n",
      "    <Midl>\n",
      "      <TargetEnvironment>X64</TargetEnvironment>\n",
      "    </Midl>\n",
      "    <ClCompile>\n",
      "      <AdditionalIncludeDirectories>%(AdditionalIncludeDirectories)</AdditionalIncludeDirectories>\n",
      "    </ClCompile>\n",
      "  </ItemDefinitionGroup>\n",
      "  <ItemDefinitionGroup Condition=\"'$(Configuration)|$(Platform)'=='PGInstrument|Win32'\">\n",
      "    <ClCompile>\n",
      "      <AdditionalIncludeDirectories>$(pyodbcDir);%(AdditionalIncludeDirectories)</AdditionalIncludeDirectories>\n",
      "    </ClCompile>\n",
      "  </ItemDefinitionGroup>\n",
      "  <ItemDefinitionGroup Condition=\"'$(Configuration)|$(Platform)'=='PGInstrument|x64'\">\n",
      "    <Midl>\n",
      "      <TargetEnvironment>X64</TargetEnvironment>\n",
      "    </Midl>\n",
      "    <ClCompile>\n",
      "      <AdditionalIncludeDirectories>%(AdditionalIncludeDirectories)</AdditionalIncludeDirectories>\n",
      "    </ClCompile>\n",
      "  </ItemDefinitionGroup>\n",
      "  <ItemDefinitionGroup Condition=\"'$(Configuration)|$(Platform)'=='PGUpdate|Win32'\">\n",
      "    <ClCompile>\n",
      "      <AdditionalIncludeDirectories>%(AdditionalIncludeDirectories)</AdditionalIncludeDirectories>\n",
      "    </ClCompile>\n",
      "  </ItemDefinitionGroup>\n",
      "  <ItemDefinitionGroup Condition=\"'$(Configuration)|$(Platform)'=='PGUpdate|x64'\">\n",
      "    <Midl>\n",
      "      <TargetEnvironment>X64</TargetEnvironment>\n",
      "    </Midl>\n",
      "    <ClCompile>\n",
      "      <AdditionalIncludeDirectories>%(AdditionalIncludeDirectories)</AdditionalIncludeDirectories>\n",
      "    </ClCompile>\n",
      "  </ItemDefinitionGroup>\n",
      "  <ItemGroup>\n",
      "    <ProjectReference Include=\"pythoncore.vcxproj\">\n",
      "      <Project>{cf7ac3d1-e2df-41d2-bea6-1e2556cdea26}</Project>\n",
      "    </ProjectReference>\n",
      "  </ItemGroup>\n",
      "  <Import Project=\"$(VCTargetsPath)\\Microsoft.Cpp.targets\" />\n",
      "  <ImportGroup Label=\"ExtensionTargets\">\n",
      "  </ImportGroup>\n",
      "</Project>\n"
     ]
    }
   ],
   "source": [
    "print(p.vcxproj)"
   ]
  },
  {
   "cell_type": "code",
   "execution_count": 5,
   "metadata": {
    "collapsed": false,
    "scrolled": false
   },
   "outputs": [
    {
     "name": "stdout",
     "output_type": "stream",
     "text": [
      "<?xml version=\"1.0\" encoding=\"utf-8\"?>\n",
      "<Project ToolsVersion=\"4.0\" xmlns=\"http://schemas.microsoft.com/developer/msbuild/2003\">\n",
      "  <ItemGroup>\n",
      "  </ItemGroup>\n",
      "</Project>\n"
     ]
    }
   ],
   "source": [
    "print(p.vcxproj_filters)"
   ]
  },
  {
   "cell_type": "code",
   "execution_count": 6,
   "metadata": {
    "collapsed": false
   },
   "outputs": [
    {
     "name": "stdout",
     "output_type": "stream",
     "text": [
      "\n",
      "      <PreprocessorDefinitions>PYODBC_UNICODE_WIDTH=2;%(PreprocessorDefinitions)</PreprocessorDefinitions>\n",
      "\n"
     ]
    }
   ],
   "source": [
    "print(p.compiles_props)"
   ]
  },
  {
   "cell_type": "code",
   "execution_count": 7,
   "metadata": {
    "collapsed": false
   },
   "outputs": [
    {
     "name": "stdout",
     "output_type": "stream",
     "text": [
      "<?xml version=\"1.0\" encoding=\"utf-8\"?>\n",
      "<Project DefaultTargets=\"Build\" ToolsVersion=\"4.0\" xmlns=\"http://schemas.microsoft.com/developer/msbuild/2003\">\n",
      "  <ImportGroup Label=\"PropertySheets\">\n",
      "    <Import Project=\"pyproject.props\" />\n",
      "  </ImportGroup>\n",
      "  <PropertyGroup>\n",
      "    <_ProjectFileVersion>10.0.30319.1</_ProjectFileVersion>\n",
      "  </PropertyGroup>\n",
      "  <ItemDefinitionGroup>\n",
      "    <ClCompile>\n",
      "      <PreprocessorDefinitions>PYODBC_UNICODE_WIDTH=2;%(PreprocessorDefinitions)</PreprocessorDefinitions>\n",
      "    </ClCompile>\n",
      "    <ResourceCompile>\n",
      "      <PreprocessorDefinitions>PYODBC_VERSION=3.0.8;PYODBC_MAJOR=3;PYODBC_MICRO=8;PYODBC_MINOR=0;PYODBC_BUILD=0;%(PreprocessorDefinitions)</PreprocessorDefinitions>\n",
      "    </ResourceCompile>\n",
      "  </ItemDefinitionGroup>\n",
      "</Project>\n"
     ]
    }
   ],
   "source": [
    "print(p.props)"
   ]
  },
  {
   "cell_type": "code",
   "execution_count": 8,
   "metadata": {
    "collapsed": false
   },
   "outputs": [
    {
     "name": "stdout",
     "output_type": "stream",
     "text": [
      "<?xml version=\"1.0\" encoding=\"utf-8\"?>\n",
      "<Project DefaultTargets=\"Build\" ToolsVersion=\"4.0\" xmlns=\"http://schemas.microsoft.com/developer/msbuild/2003\">\n",
      "  <ImportGroup Label=\"PropertySheets\">\n",
      "    <Import Project=\"pyproject.props\" />\n",
      "  </ImportGroup>\n",
      "  <PropertyGroup>\n",
      "    <_ProjectFileVersion>10.0.30319.1</_ProjectFileVersion>\n",
      "  </PropertyGroup>\n",
      "  <ItemDefinitionGroup>\n",
      "    <ClCompile>\n",
      "      <PreprocessorDefinitions>PYODBC_UNICODE_WIDTH=2;%(PreprocessorDefinitions)</PreprocessorDefinitions>\n",
      "    </ClCompile>\n",
      "    <ResourceCompile>\n",
      "      <PreprocessorDefinitions>PYODBC_VERSION=3.0.8;PYODBC_MAJOR=3;PYODBC_MICRO=8;PYODBC_MINOR=0;PYODBC_BUILD=0;%(PreprocessorDefinitions)</PreprocessorDefinitions>\n",
      "    </ResourceCompile>\n",
      "  </ItemDefinitionGroup>\n",
      "</Project>\n"
     ]
    }
   ],
   "source": [
    "print(p.props_debug)"
   ]
  },
  {
   "cell_type": "code",
   "execution_count": 9,
   "metadata": {
    "collapsed": false
   },
   "outputs": [
    {
     "name": "stdout",
     "output_type": "stream",
     "text": [
      "wrote C:\\Users\\Trent\\Home\\src\\pyparallel\\PCbuild\\pyodbc.vcxproj\n",
      "wrote C:\\Users\\Trent\\Home\\src\\pyparallel\\PCbuild\\pyodbc.vcxproj.filters\n",
      "wrote C:\\Users\\Trent\\Home\\src\\pyparallel\\PCbuild\\pyodbc.props\n",
      "wrote C:\\Users\\Trent\\Home\\src\\pyparallel\\PCbuild\\pyodbc_debug.props\n"
     ]
    }
   ],
   "source": [
    "p.write()"
   ]
  },
  {
   "cell_type": "markdown",
   "metadata": {},
   "source": [
    "Add pyodbc.vcxproj to pcbuild.sln in Visual Studio."
   ]
  }
 ],
 "metadata": {
  "kernelspec": {
   "display_name": "Python 3",
   "language": "python",
   "name": "python3"
  },
  "language_info": {
   "codemirror_mode": {
    "name": "ipython",
    "version": 3
   },
   "file_extension": ".py",
   "mimetype": "text/x-python",
   "name": "python",
   "nbconvert_exporter": "python",
   "pygments_lexer": "ipython3",
   "version": "3.4.3"
  }
 },
 "nbformat": 4,
 "nbformat_minor": 0
}
