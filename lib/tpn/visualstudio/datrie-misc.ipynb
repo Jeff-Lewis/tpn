{
 "cells": [
  {
   "cell_type": "code",
   "execution_count": 1,
   "metadata": {
    "collapsed": false
   },
   "outputs": [],
   "source": [
    "import tpn.util as tu\n",
    "import tpn.visualstudio as vs\n",
    "import tpn.visualstudio.datrie as d"
   ]
  },
  {
   "cell_type": "code",
   "execution_count": 2,
   "metadata": {
    "collapsed": false
   },
   "outputs": [],
   "source": [
    "from tpn.visualstudio.templates import gen_guids"
   ]
  },
  {
   "cell_type": "code",
   "execution_count": 3,
   "metadata": {
    "collapsed": false
   },
   "outputs": [
    {
     "name": "stdout",
     "output_type": "stream",
     "text": [
      "    guid = '{A0A118A6-0EFA-11E5-B5EA-8863DFCA3C40}'\n",
      "    source_filterdef_guid = '{A0A13FB6-0EFA-11E5-98F6-8863DFCA3C40}'\n",
      "    include_filterdef_guid = '{A0A13FB7-0EFA-11E5-9F28-8863DFCA3C40}'\n",
      "    other_filterdef_guid = '{A0A13FB8-0EFA-11E5-91E4-8863DFCA3C40}'\n",
      "    python_filterdef_guid = '{A0A13FB9-0EFA-11E5-8DCA-8863DFCA3C40}'\n",
      "    cython_filterdef_guid = '{A0A13FBA-0EFA-11E5-933D-8863DFCA3C40}'\n",
      "    resource_filterdef_guid = '{A0A13FBB-0EFA-11E5-B693-8863DFCA3C40}'\n",
      "\n"
     ]
    }
   ],
   "source": [
    "print(gen_guids())"
   ]
  }
 ],
 "metadata": {
  "kernelspec": {
   "display_name": "Python 3",
   "language": "python",
   "name": "python3"
  },
  "language_info": {
   "codemirror_mode": {
    "name": "ipython",
    "version": 3
   },
   "file_extension": ".py",
   "mimetype": "text/x-python",
   "name": "python",
   "nbconvert_exporter": "python",
   "pygments_lexer": "ipython3",
   "version": "3.4.3"
  }
 },
 "nbformat": 4,
 "nbformat_minor": 0
}
