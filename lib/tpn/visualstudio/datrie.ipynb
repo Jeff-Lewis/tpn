{
 "cells": [
  {
   "cell_type": "code",
   "execution_count": 1,
   "metadata": {
    "collapsed": false
   },
   "outputs": [],
   "source": [
    "import tpn.util as tu\n",
    "import tpn.visualstudio as vs\n",
    "import tpn.visualstudio.project as vp\n",
    "import tpn.visualstudio.datrie as d"
   ]
  },
  {
   "cell_type": "code",
   "execution_count": 2,
   "metadata": {
    "collapsed": false
   },
   "outputs": [
    {
     "name": "stdout",
     "output_type": "stream",
     "text": [
      "class DatrieProject(Project):\n",
      "    name = 'datrie'\n",
      "    guid = '{A0A118A6-0EFA-11E5-B5EA-8863DFCA3C40}'\n",
      "    relative_src_dirs = [ 'src', 'libdatrie\\\\datrie' ]\n",
      "    source_filterdef_guid = '{A0A13FB6-0EFA-11E5-98F6-8863DFCA3C40}'\n",
      "    include_filterdef_guid = '{A0A13FB7-0EFA-11E5-9F28-8863DFCA3C40}'\n",
      "    other_filterdef_guid = '{A0A13FB8-0EFA-11E5-91E4-8863DFCA3C40}'\n",
      "    python_filterdef_guid = '{A0A13FB9-0EFA-11E5-8DCA-8863DFCA3C40}'\n",
      "    cython_filterdef_guid = '{A0A13FBA-0EFA-11E5-933D-8863DFCA3C40}'\n",
      "    resource_filterdef_guid = '{A0A13FBB-0EFA-11E5-B693-8863DFCA3C40}'\n",
      "\n",
      "    include_dirs = [ 'libdatrie' ]\n",
      "\n",
      "    compile_defines = { }\n",
      "\n",
      "    resource_defines = { }\n",
      "\n"
     ]
    }
   ],
   "source": [
    "print(tu.get_source(d.DatrieProject))"
   ]
  },
  {
   "cell_type": "code",
   "execution_count": 3,
   "metadata": {
    "collapsed": false
   },
   "outputs": [],
   "source": [
    "p = d.DatrieProject()\n",
    "p.load()"
   ]
  },
  {
   "cell_type": "code",
   "execution_count": 4,
   "metadata": {
    "collapsed": false
   },
   "outputs": [
    {
     "data": {
      "text/plain": [
       "[{'name': 'cdatrie.c', 'relative_path': '$(datrieDir)\\\\src\\\\cdatrie.c'},\n",
       " {'name': 'datrie.c', 'relative_path': '$(datrieDir)\\\\src\\\\datrie.c'},\n",
       " {'name': 'stdio_ext.c', 'relative_path': '$(datrieDir)\\\\src\\\\stdio_ext.c'},\n",
       " {'name': 'alpha-map.c',\n",
       "  'relative_path': '$(datrieDir)\\\\libdatrie\\\\datrie\\\\alpha-map.c'},\n",
       " {'name': 'darray.c',\n",
       "  'relative_path': '$(datrieDir)\\\\libdatrie\\\\datrie\\\\darray.c'},\n",
       " {'name': 'dstring.c',\n",
       "  'relative_path': '$(datrieDir)\\\\libdatrie\\\\datrie\\\\dstring.c'},\n",
       " {'name': 'fileutils.c',\n",
       "  'relative_path': '$(datrieDir)\\\\libdatrie\\\\datrie\\\\fileutils.c'},\n",
       " {'name': 'tail.c',\n",
       "  'relative_path': '$(datrieDir)\\\\libdatrie\\\\datrie\\\\tail.c'},\n",
       " {'name': 'trie-string.c',\n",
       "  'relative_path': '$(datrieDir)\\\\libdatrie\\\\datrie\\\\trie-string.c'},\n",
       " {'name': 'trie.c',\n",
       "  'relative_path': '$(datrieDir)\\\\libdatrie\\\\datrie\\\\trie.c'}]"
      ]
     },
     "execution_count": 4,
     "metadata": {},
     "output_type": "execute_result"
    }
   ],
   "source": [
    "vp.CompileFile.instances"
   ]
  },
  {
   "cell_type": "code",
   "execution_count": 5,
   "metadata": {
    "collapsed": false
   },
   "outputs": [
    {
     "name": "stdout",
     "output_type": "stream",
     "text": [
      "<?xml version=\"1.0\" encoding=\"utf-8\"?>\n",
      "<Project DefaultTargets=\"Build\" ToolsVersion=\"4.0\" xmlns=\"http://schemas.microsoft.com/developer/msbuild/2003\">\n",
      "  <ItemGroup Label=\"ProjectConfigurations\">\n",
      "    <ProjectConfiguration Include=\"Debug|Win32\">\n",
      "      <Configuration>Debug</Configuration>\n",
      "      <Platform>Win32</Platform>\n",
      "    </ProjectConfiguration>\n",
      "    <ProjectConfiguration Include=\"Debug|x64\">\n",
      "      <Configuration>Debug</Configuration>\n",
      "      <Platform>x64</Platform>\n",
      "    </ProjectConfiguration>\n",
      "    <ProjectConfiguration Include=\"PGInstrument|Win32\">\n",
      "      <Configuration>PGInstrument</Configuration>\n",
      "      <Platform>Win32</Platform>\n",
      "    </ProjectConfiguration>\n",
      "    <ProjectConfiguration Include=\"PGInstrument|x64\">\n",
      "      <Configuration>PGInstrument</Configuration>\n",
      "      <Platform>x64</Platform>\n",
      "    </ProjectConfiguration>\n",
      "    <ProjectConfiguration Include=\"PGUpdate|Win32\">\n",
      "      <Configuration>PGUpdate</Configuration>\n",
      "      <Platform>Win32</Platform>\n",
      "    </ProjectConfiguration>\n",
      "    <ProjectConfiguration Include=\"PGUpdate|x64\">\n",
      "      <Configuration>PGUpdate</Configuration>\n",
      "      <Platform>x64</Platform>\n",
      "    </ProjectConfiguration>\n",
      "    <ProjectConfiguration Include=\"Release|Win32\">\n",
      "      <Configuration>Release</Configuration>\n",
      "      <Platform>Win32</Platform>\n",
      "    </ProjectConfiguration>\n",
      "    <ProjectConfiguration Include=\"Release|x64\">\n",
      "      <Configuration>Release</Configuration>\n",
      "      <Platform>x64</Platform>\n",
      "    </ProjectConfiguration>\n",
      "  </ItemGroup>\n",
      "  <PropertyGroup Label=\"Globals\">\n",
      "    <ProjectGuid>{A0A118A6-0EFA-11E5-B5EA-8863DFCA3C40}</ProjectGuid>\n",
      "    <RootNamespace>datrie</RootNamespace>\n",
      "    <Keyword>Win32Proj</Keyword>\n",
      "  </PropertyGroup>\n",
      "  <PropertyGroup Label=\"UserMacros\">\n",
      "    <datrieDir>..\\contrib\\datrie</datrieDir>\n",
      "  </PropertyGroup>\n",
      "  <Import Project=\"$(VCTargetsPath)\\Microsoft.Cpp.Default.props\" />\n",
      "  <PropertyGroup Condition=\"'$(Configuration)|$(Platform)'=='PGUpdate|Win32'\" Label=\"Configuration\">\n",
      "    <ConfigurationType>DynamicLibrary</ConfigurationType>\n",
      "    <CharacterSet>NotSet</CharacterSet>\n",
      "    <WholeProgramOptimization>true</WholeProgramOptimization>\n",
      "  </PropertyGroup>\n",
      "  <PropertyGroup Condition=\"'$(Configuration)|$(Platform)'=='PGInstrument|Win32'\" Label=\"Configuration\">\n",
      "    <ConfigurationType>DynamicLibrary</ConfigurationType>\n",
      "    <CharacterSet>NotSet</CharacterSet>\n",
      "    <WholeProgramOptimization>true</WholeProgramOptimization>\n",
      "  </PropertyGroup>\n",
      "  <PropertyGroup Condition=\"'$(Configuration)|$(Platform)'=='Release|Win32'\" Label=\"Configuration\">\n",
      "    <ConfigurationType>DynamicLibrary</ConfigurationType>\n",
      "    <CharacterSet>NotSet</CharacterSet>\n",
      "    <WholeProgramOptimization>true</WholeProgramOptimization>\n",
      "  </PropertyGroup>\n",
      "  <PropertyGroup Condition=\"'$(Configuration)|$(Platform)'=='Debug|Win32'\" Label=\"Configuration\">\n",
      "    <ConfigurationType>DynamicLibrary</ConfigurationType>\n",
      "    <CharacterSet>NotSet</CharacterSet>\n",
      "  </PropertyGroup>\n",
      "  <PropertyGroup Condition=\"'$(Configuration)|$(Platform)'=='PGUpdate|x64'\" Label=\"Configuration\">\n",
      "    <ConfigurationType>DynamicLibrary</ConfigurationType>\n",
      "    <CharacterSet>NotSet</CharacterSet>\n",
      "    <WholeProgramOptimization>true</WholeProgramOptimization>\n",
      "  </PropertyGroup>\n",
      "  <PropertyGroup Condition=\"'$(Configuration)|$(Platform)'=='PGInstrument|x64'\" Label=\"Configuration\">\n",
      "    <ConfigurationType>DynamicLibrary</ConfigurationType>\n",
      "    <CharacterSet>NotSet</CharacterSet>\n",
      "    <WholeProgramOptimization>true</WholeProgramOptimization>\n",
      "  </PropertyGroup>\n",
      "  <PropertyGroup Condition=\"'$(Configuration)|$(Platform)'=='Release|x64'\" Label=\"Configuration\">\n",
      "    <ConfigurationType>DynamicLibrary</ConfigurationType>\n",
      "    <CharacterSet>NotSet</CharacterSet>\n",
      "    <WholeProgramOptimization>true</WholeProgramOptimization>\n",
      "  </PropertyGroup>\n",
      "  <PropertyGroup Condition=\"'$(Configuration)|$(Platform)'=='Debug|x64'\" Label=\"Configuration\">\n",
      "    <ConfigurationType>DynamicLibrary</ConfigurationType>\n",
      "    <CharacterSet>NotSet</CharacterSet>\n",
      "  </PropertyGroup>\n",
      "  <Import Project=\"$(VCTargetsPath)\\Microsoft.Cpp.props\" />\n",
      "  <ImportGroup Label=\"ExtensionSettings\">\n",
      "  </ImportGroup>\n",
      "  <ImportGroup Condition=\"'$(Configuration)|$(Platform)'=='PGUpdate|Win32'\" Label=\"PropertySheets\">\n",
      "    <Import Project=\"$(UserRootDir)\\Microsoft.Cpp.$(Platform).user.props\" Condition=\"exists('$(UserRootDir)\\Microsoft.Cpp.$(Platform).user.props')\" Label=\"LocalAppDataPlatform\" />\n",
      "    <Import Project=\"datrie.props\" />\n",
      "    <Import Project=\"pyd.props\" />\n",
      "    <Import Project=\"pgupdate.props\" />\n",
      "  </ImportGroup>\n",
      "  <ImportGroup Condition=\"'$(Configuration)|$(Platform)'=='PGInstrument|Win32'\" Label=\"PropertySheets\">\n",
      "    <Import Project=\"$(UserRootDir)\\Microsoft.Cpp.$(Platform).user.props\" Condition=\"exists('$(UserRootDir)\\Microsoft.Cpp.$(Platform).user.props')\" Label=\"LocalAppDataPlatform\" />\n",
      "    <Import Project=\"datrie.props\" />\n",
      "    <Import Project=\"pyd.props\" />\n",
      "    <Import Project=\"pginstrument.props\" />\n",
      "  </ImportGroup>\n",
      "  <ImportGroup Condition=\"'$(Configuration)|$(Platform)'=='Release|Win32'\" Label=\"PropertySheets\">\n",
      "    <Import Project=\"$(UserRootDir)\\Microsoft.Cpp.$(Platform).user.props\" Condition=\"exists('$(UserRootDir)\\Microsoft.Cpp.$(Platform).user.props')\" Label=\"LocalAppDataPlatform\" />\n",
      "    <Import Project=\"datrie.props\" />\n",
      "    <Import Project=\"pyd.props\" />\n",
      "  </ImportGroup>\n",
      "  <ImportGroup Condition=\"'$(Configuration)|$(Platform)'=='Debug|Win32'\" Label=\"PropertySheets\">\n",
      "    <Import Project=\"$(UserRootDir)\\Microsoft.Cpp.$(Platform).user.props\" Condition=\"exists('$(UserRootDir)\\Microsoft.Cpp.$(Platform).user.props')\" Label=\"LocalAppDataPlatform\" />\n",
      "    <Import Project=\"datrie.props\" />\n",
      "    <Import Project=\"datrie_debug.props\" />\n",
      "    <Import Project=\"pyd_d.props\" />\n",
      "    <Import Project=\"debug.props\" />\n",
      "  </ImportGroup>\n",
      "  <ImportGroup Condition=\"'$(Configuration)|$(Platform)'=='PGUpdate|x64'\" Label=\"PropertySheets\">\n",
      "    <Import Project=\"$(UserRootDir)\\Microsoft.Cpp.$(Platform).user.props\" Condition=\"exists('$(UserRootDir)\\Microsoft.Cpp.$(Platform).user.props')\" Label=\"LocalAppDataPlatform\" />\n",
      "    <Import Project=\"datrie.props\" />\n",
      "    <Import Project=\"pyd.props\" />\n",
      "    <Import Project=\"x64.props\" />\n",
      "    <Import Project=\"pgupdate.props\" />\n",
      "  </ImportGroup>\n",
      "  <ImportGroup Condition=\"'$(Configuration)|$(Platform)'=='PGInstrument|x64'\" Label=\"PropertySheets\">\n",
      "    <Import Project=\"$(UserRootDir)\\Microsoft.Cpp.$(Platform).user.props\" Condition=\"exists('$(UserRootDir)\\Microsoft.Cpp.$(Platform).user.props')\" Label=\"LocalAppDataPlatform\" />\n",
      "    <Import Project=\"datrie.props\" />\n",
      "    <Import Project=\"pyd.props\" />\n",
      "    <Import Project=\"x64.props\" />\n",
      "    <Import Project=\"pginstrument.props\" />\n",
      "  </ImportGroup>\n",
      "  <ImportGroup Condition=\"'$(Configuration)|$(Platform)'=='Release|x64'\" Label=\"PropertySheets\">\n",
      "    <Import Project=\"$(UserRootDir)\\Microsoft.Cpp.$(Platform).user.props\" Condition=\"exists('$(UserRootDir)\\Microsoft.Cpp.$(Platform).user.props')\" Label=\"LocalAppDataPlatform\" />\n",
      "    <Import Project=\"datrie.props\" />\n",
      "    <Import Project=\"pyd.props\" />\n",
      "    <Import Project=\"x64.props\" />\n",
      "  </ImportGroup>\n",
      "  <ImportGroup Condition=\"'$(Configuration)|$(Platform)'=='Debug|x64'\" Label=\"PropertySheets\">\n",
      "    <Import Project=\"$(UserRootDir)\\Microsoft.Cpp.$(Platform).user.props\" Condition=\"exists('$(UserRootDir)\\Microsoft.Cpp.$(Platform).user.props')\" Label=\"LocalAppDataPlatform\" />\n",
      "    <Import Project=\"datrie.props\" />\n",
      "    <Import Project=\"datrie_debug.props\" />\n",
      "    <Import Project=\"pyd_d.props\" />\n",
      "    <Import Project=\"debug.props\" />\n",
      "    <Import Project=\"x64.props\" />\n",
      "  </ImportGroup>\n",
      "  <PropertyGroup Label=\"UserMacros\" />\n",
      "  <PropertyGroup>\n",
      "    <_ProjectFileVersion>10.0.30319.1</_ProjectFileVersion>\n",
      "    <CodeAnalysisRuleSet Condition=\"'$(Configuration)|$(Platform)'=='Debug|Win32'\">AllRules.ruleset</CodeAnalysisRuleSet>\n",
      "    <CodeAnalysisRules Condition=\"'$(Configuration)|$(Platform)'=='Debug|Win32'\" />\n",
      "    <CodeAnalysisRuleAssemblies Condition=\"'$(Configuration)|$(Platform)'=='Debug|Win32'\" />\n",
      "    <CodeAnalysisRuleSet Condition=\"'$(Configuration)|$(Platform)'=='Debug|x64'\">AllRules.ruleset</CodeAnalysisRuleSet>\n",
      "    <CodeAnalysisRules Condition=\"'$(Configuration)|$(Platform)'=='Debug|x64'\" />\n",
      "    <CodeAnalysisRuleAssemblies Condition=\"'$(Configuration)|$(Platform)'=='Debug|x64'\" />\n",
      "    <CodeAnalysisRuleSet Condition=\"'$(Configuration)|$(Platform)'=='PGInstrument|Win32'\">AllRules.ruleset</CodeAnalysisRuleSet>\n",
      "    <CodeAnalysisRules Condition=\"'$(Configuration)|$(Platform)'=='PGInstrument|Win32'\" />\n",
      "    <CodeAnalysisRuleAssemblies Condition=\"'$(Configuration)|$(Platform)'=='PGInstrument|Win32'\" />\n",
      "    <CodeAnalysisRuleSet Condition=\"'$(Configuration)|$(Platform)'=='PGInstrument|x64'\">AllRules.ruleset</CodeAnalysisRuleSet>\n",
      "    <CodeAnalysisRules Condition=\"'$(Configuration)|$(Platform)'=='PGInstrument|x64'\" />\n",
      "    <CodeAnalysisRuleAssemblies Condition=\"'$(Configuration)|$(Platform)'=='PGInstrument|x64'\" />\n",
      "    <CodeAnalysisRuleSet Condition=\"'$(Configuration)|$(Platform)'=='PGUpdate|Win32'\">AllRules.ruleset</CodeAnalysisRuleSet>\n",
      "    <CodeAnalysisRules Condition=\"'$(Configuration)|$(Platform)'=='PGUpdate|Win32'\" />\n",
      "    <CodeAnalysisRuleAssemblies Condition=\"'$(Configuration)|$(Platform)'=='PGUpdate|Win32'\" />\n",
      "    <CodeAnalysisRuleSet Condition=\"'$(Configuration)|$(Platform)'=='PGUpdate|x64'\">AllRules.ruleset</CodeAnalysisRuleSet>\n",
      "    <CodeAnalysisRules Condition=\"'$(Configuration)|$(Platform)'=='PGUpdate|x64'\" />\n",
      "    <CodeAnalysisRuleAssemblies Condition=\"'$(Configuration)|$(Platform)'=='PGUpdate|x64'\" />\n",
      "    <CodeAnalysisRuleSet Condition=\"'$(Configuration)|$(Platform)'=='Release|Win32'\">AllRules.ruleset</CodeAnalysisRuleSet>\n",
      "    <CodeAnalysisRules Condition=\"'$(Configuration)|$(Platform)'=='Release|Win32'\" />\n",
      "    <CodeAnalysisRuleAssemblies Condition=\"'$(Configuration)|$(Platform)'=='Release|Win32'\" />\n",
      "    <CodeAnalysisRuleSet Condition=\"'$(Configuration)|$(Platform)'=='Release|x64'\">AllRules.ruleset</CodeAnalysisRuleSet>\n",
      "    <CodeAnalysisRules Condition=\"'$(Configuration)|$(Platform)'=='Release|x64'\" />\n",
      "    <CodeAnalysisRuleAssemblies Condition=\"'$(Configuration)|$(Platform)'=='Release|x64'\" />\n",
      "  </PropertyGroup>\n",
      "  <ItemDefinitionGroup Condition=\"'$(Configuration)|$(Platform)'=='Debug|Win32'\">\n",
      "    <ClCompile>\n",
      "      <AdditionalIncludeDirectories>%(AdditionalIncludeDirectories)</AdditionalIncludeDirectories>\n",
      "    </ClCompile>\n",
      "  </ItemDefinitionGroup>\n",
      "  <ItemDefinitionGroup Condition=\"'$(Configuration)|$(Platform)'=='Debug|x64'\">\n",
      "    <Midl>\n",
      "      <TargetEnvironment>X64</TargetEnvironment>\n",
      "    </Midl>\n",
      "    <ClCompile>\n",
      "      <AdditionalIncludeDirectories>%(AdditionalIncludeDirectories)</AdditionalIncludeDirectories>\n",
      "    </ClCompile>\n",
      "  </ItemDefinitionGroup>\n",
      "  <ItemDefinitionGroup Condition=\"'$(Configuration)|$(Platform)'=='Release|Win32'\">\n",
      "    <ClCompile>\n",
      "      <AdditionalIncludeDirectories>%(AdditionalIncludeDirectories)</AdditionalIncludeDirectories>\n",
      "    </ClCompile>\n",
      "  </ItemDefinitionGroup>\n",
      "  <ItemDefinitionGroup Condition=\"'$(Configuration)|$(Platform)'=='Release|x64'\">\n",
      "    <Midl>\n",
      "      <TargetEnvironment>X64</TargetEnvironment>\n",
      "    </Midl>\n",
      "    <ClCompile>\n",
      "      <AdditionalIncludeDirectories>%(AdditionalIncludeDirectories)</AdditionalIncludeDirectories>\n",
      "    </ClCompile>\n",
      "  </ItemDefinitionGroup>\n",
      "  <ItemDefinitionGroup Condition=\"'$(Configuration)|$(Platform)'=='PGInstrument|Win32'\">\n",
      "    <ClCompile>\n",
      "      <AdditionalIncludeDirectories>$(datrieDir);%(AdditionalIncludeDirectories)</AdditionalIncludeDirectories>\n",
      "    </ClCompile>\n",
      "  </ItemDefinitionGroup>\n",
      "  <ItemDefinitionGroup Condition=\"'$(Configuration)|$(Platform)'=='PGInstrument|x64'\">\n",
      "    <Midl>\n",
      "      <TargetEnvironment>X64</TargetEnvironment>\n",
      "    </Midl>\n",
      "    <ClCompile>\n",
      "      <AdditionalIncludeDirectories>%(AdditionalIncludeDirectories)</AdditionalIncludeDirectories>\n",
      "    </ClCompile>\n",
      "  </ItemDefinitionGroup>\n",
      "  <ItemDefinitionGroup Condition=\"'$(Configuration)|$(Platform)'=='PGUpdate|Win32'\">\n",
      "    <ClCompile>\n",
      "      <AdditionalIncludeDirectories>%(AdditionalIncludeDirectories)</AdditionalIncludeDirectories>\n",
      "    </ClCompile>\n",
      "  </ItemDefinitionGroup>\n",
      "  <ItemDefinitionGroup Condition=\"'$(Configuration)|$(Platform)'=='PGUpdate|x64'\">\n",
      "    <Midl>\n",
      "      <TargetEnvironment>X64</TargetEnvironment>\n",
      "    </Midl>\n",
      "    <ClCompile>\n",
      "      <AdditionalIncludeDirectories>%(AdditionalIncludeDirectories)</AdditionalIncludeDirectories>\n",
      "    </ClCompile>\n",
      "  </ItemDefinitionGroup>\n",
      "  <ItemGroup>\n",
      "    <ClInclude Include=\"$(datrieDir)\\libdatrie\\datrie\\alpha-map-private.h\" />\n",
      "    <ClInclude Include=\"$(datrieDir)\\libdatrie\\datrie\\alpha-map.h\" />\n",
      "    <ClInclude Include=\"$(datrieDir)\\libdatrie\\datrie\\darray.h\" />\n",
      "    <ClInclude Include=\"$(datrieDir)\\libdatrie\\datrie\\dstring-private.h\" />\n",
      "    <ClInclude Include=\"$(datrieDir)\\libdatrie\\datrie\\dstring.h\" />\n",
      "    <ClInclude Include=\"$(datrieDir)\\libdatrie\\datrie\\fileutils.h\" />\n",
      "    <ClInclude Include=\"$(datrieDir)\\libdatrie\\datrie\\tail.h\" />\n",
      "    <ClInclude Include=\"$(datrieDir)\\libdatrie\\datrie\\trie-private.h\" />\n",
      "    <ClInclude Include=\"$(datrieDir)\\libdatrie\\datrie\\trie-string.h\" />\n",
      "    <ClInclude Include=\"$(datrieDir)\\libdatrie\\datrie\\trie.h\" />\n",
      "    <ClInclude Include=\"$(datrieDir)\\libdatrie\\datrie\\triedefs.h\" />\n",
      "    <ClInclude Include=\"$(datrieDir)\\libdatrie\\datrie\\typedefs.h\" />\n",
      "  </ItemGroup>\n",
      "  <ItemGroup>\n",
      "    <ClCompile Include=\"$(datrieDir)\\src\\cdatrie.c\" />\n",
      "    <ClCompile Include=\"$(datrieDir)\\src\\datrie.c\" />\n",
      "    <ClCompile Include=\"$(datrieDir)\\src\\stdio_ext.c\" />\n",
      "    <ClCompile Include=\"$(datrieDir)\\libdatrie\\datrie\\alpha-map.c\" />\n",
      "    <ClCompile Include=\"$(datrieDir)\\libdatrie\\datrie\\darray.c\" />\n",
      "    <ClCompile Include=\"$(datrieDir)\\libdatrie\\datrie\\dstring.c\" />\n",
      "    <ClCompile Include=\"$(datrieDir)\\libdatrie\\datrie\\fileutils.c\" />\n",
      "    <ClCompile Include=\"$(datrieDir)\\libdatrie\\datrie\\tail.c\" />\n",
      "    <ClCompile Include=\"$(datrieDir)\\libdatrie\\datrie\\trie-string.c\" />\n",
      "    <ClCompile Include=\"$(datrieDir)\\libdatrie\\datrie\\trie.c\" />\n",
      "  </ItemGroup>\n",
      "  <ItemGroup>\n",
      "    <ProjectReference Include=\"pythoncore.vcxproj\">\n",
      "      <Project>{cf7ac3d1-e2df-41d2-bea6-1e2556cdea26}</Project>\n",
      "    </ProjectReference>\n",
      "  </ItemGroup>\n",
      "  <Import Project=\"$(VCTargetsPath)\\Microsoft.Cpp.targets\" />\n",
      "  <ImportGroup Label=\"ExtensionTargets\">\n",
      "  </ImportGroup>\n",
      "</Project>\n"
     ]
    }
   ],
   "source": [
    "print(p.vcxproj)"
   ]
  },
  {
   "cell_type": "code",
   "execution_count": 6,
   "metadata": {
    "collapsed": false,
    "scrolled": false
   },
   "outputs": [
    {
     "name": "stdout",
     "output_type": "stream",
     "text": [
      "<?xml version=\"1.0\" encoding=\"utf-8\"?>\n",
      "<Project ToolsVersion=\"4.0\" xmlns=\"http://schemas.microsoft.com/developer/msbuild/2003\">\n",
      "  <ItemGroup>\n",
      "    <Filter Include=\"Source\">\n",
      "      <UniqueIdentifier>{A0A13FB6-0EFA-11E5-98F6-8863DFCA3C40}</UniqueIdentifier>\n",
      "    </Filter>\n",
      "    <Filter Include=\"Headers\">\n",
      "      <UniqueIdentifier>{A0A13FB7-0EFA-11E5-9F28-8863DFCA3C40}</UniqueIdentifier>\n",
      "    </Filter>\n",
      "    <Filter Include=\"Cython\">\n",
      "      <UniqueIdentifier>{A0A13FBA-0EFA-11E5-933D-8863DFCA3C40}</UniqueIdentifier>\n",
      "    </Filter>\n",
      "  </ItemGroup>\n",
      "  <ItemGroup>\n",
      "    <ClCompile Include=\"$(datrieDir)\\src\\cdatrie.c\">\n",
      "      <Filter>Source</Filter>\n",
      "    </ClCompile>\n",
      "    <ClCompile Include=\"$(datrieDir)\\src\\datrie.c\">\n",
      "      <Filter>Source</Filter>\n",
      "    </ClCompile>\n",
      "    <ClCompile Include=\"$(datrieDir)\\src\\stdio_ext.c\">\n",
      "      <Filter>Source</Filter>\n",
      "    </ClCompile>\n",
      "    <ClCompile Include=\"$(datrieDir)\\libdatrie\\datrie\\alpha-map.c\">\n",
      "      <Filter>Source</Filter>\n",
      "    </ClCompile>\n",
      "    <ClCompile Include=\"$(datrieDir)\\libdatrie\\datrie\\darray.c\">\n",
      "      <Filter>Source</Filter>\n",
      "    </ClCompile>\n",
      "    <ClCompile Include=\"$(datrieDir)\\libdatrie\\datrie\\dstring.c\">\n",
      "      <Filter>Source</Filter>\n",
      "    </ClCompile>\n",
      "    <ClCompile Include=\"$(datrieDir)\\libdatrie\\datrie\\fileutils.c\">\n",
      "      <Filter>Source</Filter>\n",
      "    </ClCompile>\n",
      "    <ClCompile Include=\"$(datrieDir)\\libdatrie\\datrie\\tail.c\">\n",
      "      <Filter>Source</Filter>\n",
      "    </ClCompile>\n",
      "    <ClCompile Include=\"$(datrieDir)\\libdatrie\\datrie\\trie-string.c\">\n",
      "      <Filter>Source</Filter>\n",
      "    </ClCompile>\n",
      "    <ClCompile Include=\"$(datrieDir)\\libdatrie\\datrie\\trie.c\">\n",
      "      <Filter>Source</Filter>\n",
      "    </ClCompile>\n",
      "  </ItemGroup>\n",
      "  <ItemGroup>\n",
      "    <ClInclude Include=\"$(datrieDir)\\libdatrie\\datrie\\alpha-map-private.h\">\n",
      "      <Filter>Headers</Filter>\n",
      "    </ClInclude>\n",
      "    <ClInclude Include=\"$(datrieDir)\\libdatrie\\datrie\\alpha-map.h\">\n",
      "      <Filter>Headers</Filter>\n",
      "    </ClInclude>\n",
      "    <ClInclude Include=\"$(datrieDir)\\libdatrie\\datrie\\darray.h\">\n",
      "      <Filter>Headers</Filter>\n",
      "    </ClInclude>\n",
      "    <ClInclude Include=\"$(datrieDir)\\libdatrie\\datrie\\dstring-private.h\">\n",
      "      <Filter>Headers</Filter>\n",
      "    </ClInclude>\n",
      "    <ClInclude Include=\"$(datrieDir)\\libdatrie\\datrie\\dstring.h\">\n",
      "      <Filter>Headers</Filter>\n",
      "    </ClInclude>\n",
      "    <ClInclude Include=\"$(datrieDir)\\libdatrie\\datrie\\fileutils.h\">\n",
      "      <Filter>Headers</Filter>\n",
      "    </ClInclude>\n",
      "    <ClInclude Include=\"$(datrieDir)\\libdatrie\\datrie\\tail.h\">\n",
      "      <Filter>Headers</Filter>\n",
      "    </ClInclude>\n",
      "    <ClInclude Include=\"$(datrieDir)\\libdatrie\\datrie\\trie-private.h\">\n",
      "      <Filter>Headers</Filter>\n",
      "    </ClInclude>\n",
      "    <ClInclude Include=\"$(datrieDir)\\libdatrie\\datrie\\trie-string.h\">\n",
      "      <Filter>Headers</Filter>\n",
      "    </ClInclude>\n",
      "    <ClInclude Include=\"$(datrieDir)\\libdatrie\\datrie\\trie.h\">\n",
      "      <Filter>Headers</Filter>\n",
      "    </ClInclude>\n",
      "    <ClInclude Include=\"$(datrieDir)\\libdatrie\\datrie\\triedefs.h\">\n",
      "      <Filter>Headers</Filter>\n",
      "    </ClInclude>\n",
      "    <ClInclude Include=\"$(datrieDir)\\libdatrie\\datrie\\typedefs.h\">\n",
      "      <Filter>Headers</Filter>\n",
      "    </ClInclude>\n",
      "  </ItemGroup>\n",
      "  <ItemGroup>\n",
      "    <None Include=\"$(datrieDir)\\src\\datrie.pyx\">\n",
      "      <Filter>Cython</Filter>\n",
      "    </None>\n",
      "  </ItemGroup>\n",
      "</Project>\n"
     ]
    }
   ],
   "source": [
    "print(p.vcxproj_filters)"
   ]
  },
  {
   "cell_type": "code",
   "execution_count": 7,
   "metadata": {
    "collapsed": false
   },
   "outputs": [
    {
     "name": "stdout",
     "output_type": "stream",
     "text": [
      "\n"
     ]
    }
   ],
   "source": [
    "print(p.compiles_props)"
   ]
  },
  {
   "cell_type": "code",
   "execution_count": 8,
   "metadata": {
    "collapsed": false
   },
   "outputs": [
    {
     "name": "stdout",
     "output_type": "stream",
     "text": [
      "<?xml version=\"1.0\" encoding=\"utf-8\"?>\n",
      "<Project DefaultTargets=\"Build\" ToolsVersion=\"4.0\" xmlns=\"http://schemas.microsoft.com/developer/msbuild/2003\">\n",
      "  <PropertyGroup>\n",
      "    <_ProjectFileVersion>10.0.30319.1</_ProjectFileVersion>\n",
      "  </PropertyGroup>\n",
      "  <ItemDefinitionGroup>\n",
      "    <ClCompile>\n",
      "      <AdditionalIncludeDirectories>$(datrieDir)\\libdatrie</AdditionalIncludeDirectories>\n",
      "    </ClCompile>\n",
      "    <ResourceCompile>\n",
      "    </ResourceCompile>\n",
      "  </ItemDefinitionGroup>\n",
      "</Project>\n"
     ]
    }
   ],
   "source": [
    "print(p.props)"
   ]
  },
  {
   "cell_type": "code",
   "execution_count": 9,
   "metadata": {
    "collapsed": false
   },
   "outputs": [
    {
     "name": "stdout",
     "output_type": "stream",
     "text": [
      "<?xml version=\"1.0\" encoding=\"utf-8\"?>\n",
      "<Project DefaultTargets=\"Build\" ToolsVersion=\"4.0\" xmlns=\"http://schemas.microsoft.com/developer/msbuild/2003\">\n",
      "  <PropertyGroup>\n",
      "    <_ProjectFileVersion>10.0.30319.1</_ProjectFileVersion>\n",
      "  </PropertyGroup>\n",
      "  <ItemDefinitionGroup>\n",
      "    <ClCompile>\n",
      "      <AdditionalIncludeDirectories>$(datrieDir)\\libdatrie</AdditionalIncludeDirectories>\n",
      "    </ClCompile>\n",
      "    <ResourceCompile>\n",
      "    </ResourceCompile>\n",
      "  </ItemDefinitionGroup>\n",
      "</Project>\n"
     ]
    }
   ],
   "source": [
    "print(p.props_debug)"
   ]
  },
  {
   "cell_type": "code",
   "execution_count": 10,
   "metadata": {
    "collapsed": false
   },
   "outputs": [
    {
     "name": "stdout",
     "output_type": "stream",
     "text": [
      "wrote C:\\Users\\Trent\\Home\\src\\pyparallel\\PCbuild\\datrie.vcxproj\n",
      "wrote C:\\Users\\Trent\\Home\\src\\pyparallel\\PCbuild\\datrie.vcxproj.filters\n",
      "wrote C:\\Users\\Trent\\Home\\src\\pyparallel\\PCbuild\\datrie.props\n",
      "wrote C:\\Users\\Trent\\Home\\src\\pyparallel\\PCbuild\\datrie_debug.props\n"
     ]
    }
   ],
   "source": [
    "p.write()"
   ]
  },
  {
   "cell_type": "markdown",
   "metadata": {},
   "source": [
    "Add datrie.vcxproj to pcbuild.sln in Visual Studio."
   ]
  },
  {
   "cell_type": "code",
   "execution_count": null,
   "metadata": {
    "collapsed": true
   },
   "outputs": [],
   "source": []
  }
 ],
 "metadata": {
  "kernelspec": {
   "display_name": "Python 3",
   "language": "python",
   "name": "python3"
  },
  "language_info": {
   "codemirror_mode": {
    "name": "ipython",
    "version": 3
   },
   "file_extension": ".py",
   "mimetype": "text/x-python",
   "name": "python",
   "nbconvert_exporter": "python",
   "pygments_lexer": "ipython3",
   "version": "3.4.3"
  }
 },
 "nbformat": 4,
 "nbformat_minor": 0
}
